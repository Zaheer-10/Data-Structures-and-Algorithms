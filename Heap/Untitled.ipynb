{
 "cells": [
  {
   "cell_type": "code",
   "execution_count": null,
   "id": "eaec5efc",
   "metadata": {},
   "outputs": [],
   "source": []
  },
  {
   "cell_type": "code",
   "execution_count": null,
   "id": "ef0e3f23",
   "metadata": {},
   "outputs": [],
   "source": []
  },
  {
   "cell_type": "code",
   "execution_count": null,
   "id": "8315e935",
   "metadata": {},
   "outputs": [],
   "source": [
    "class MinHeap:\n",
    "    def __init__(self):\n",
    "        self.heap = []\n",
    "        \n",
    "    def heapify_down(self, index):\n",
    "        while index > 0 :\n",
    "            \n",
    "            parent = (index-1)//2\n",
    "            \n",
    "            if self.heap[parent] > self.heap[index] :\n",
    "                self.heap[parent] , self.heap[index] = self.heap[index] , self.heap(parent)\n",
    "                \n",
    "                index = parent\n",
    "                \n",
    "            else:\n",
    "                break\n",
    "                \n",
    "                \n",
    "                \n",
    "        \n",
    "    def insert(self,value):\n",
    "        self.heap.append(value)\n",
    "        self.heapify_down(len(self.heap)-1)\n",
    "        \n",
    "\n",
    "m = MinHeap()\n",
    "m.insert(15)\n",
    "m.insert(7)"
   ]
  }
 ],
 "metadata": {
  "kernelspec": {
   "display_name": "Python 3 (ipykernel)",
   "language": "python",
   "name": "python3"
  },
  "language_info": {
   "codemirror_mode": {
    "name": "ipython",
    "version": 3
   },
   "file_extension": ".py",
   "mimetype": "text/x-python",
   "name": "python",
   "nbconvert_exporter": "python",
   "pygments_lexer": "ipython3",
   "version": "3.9.13"
  }
 },
 "nbformat": 4,
 "nbformat_minor": 5
}
