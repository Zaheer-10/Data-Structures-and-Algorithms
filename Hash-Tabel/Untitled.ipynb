{
 "cells": [
  {
   "cell_type": "code",
   "execution_count": null,
   "id": "1c7a0d0a",
   "metadata": {},
   "outputs": [],
   "source": []
  },
  {
   "cell_type": "code",
   "execution_count": null,
   "id": "c0cbbf30",
   "metadata": {},
   "outputs": [],
   "source": []
  },
  {
   "cell_type": "code",
   "execution_count": null,
   "id": "0c1519e4",
   "metadata": {},
   "outputs": [],
   "source": []
  },
  {
   "cell_type": "code",
   "execution_count": null,
   "id": "fd38197f",
   "metadata": {},
   "outputs": [],
   "source": []
  },
  {
   "cell_type": "code",
   "execution_count": null,
   "id": "1e021d39",
   "metadata": {},
   "outputs": [],
   "source": [
    "class HashTabel:\n",
    "        \n",
    "        def __init__(self,capacity):\n",
    "            self.capacity = capacity\n",
    "            self.size = 0\n",
    "            self.keys = [None]* self.capacity\n",
    "            self.tabel = [None] * self.capacity\n",
    "            \n",
    "        def _hash(self,key):\n",
    "            return hash(key) % self.capacity\n",
    "            \n",
    "            \n",
    "        def insert(self,key,value):\n",
    "            index = self._hash(key)\n",
    "            \n",
    "            if self.tabel[index] is None:\n",
    "                self.tabel[index] = (key,value)\n",
    "                self.size +=1\n",
    "            elif self.tabel[index][0]==key:\n",
    "                self.table[index] == (key,value)\n",
    "            else:\n",
    "                index = (index+1) % self.capacity \n",
    "            \n",
    "            \n",
    "            \n",
    "        "
   ]
  },
  {
   "cell_type": "code",
   "execution_count": null,
   "id": "ca2a4742",
   "metadata": {},
   "outputs": [],
   "source": []
  },
  {
   "cell_type": "code",
   "execution_count": 9,
   "id": "9c2991fa",
   "metadata": {},
   "outputs": [
    {
     "data": {
      "text/plain": [
       "-8899202244502354980"
      ]
     },
     "execution_count": 9,
     "metadata": {},
     "output_type": "execute_result"
    }
   ],
   "source": [
    "hash('152')"
   ]
  },
  {
   "cell_type": "code",
   "execution_count": 18,
   "id": "2a629ac5",
   "metadata": {},
   "outputs": [
    {
     "data": {
      "text/plain": [
       "3"
      ]
     },
     "execution_count": 18,
     "metadata": {},
     "output_type": "execute_result"
    }
   ],
   "source": [
    "abs(hash('151')) % 10"
   ]
  },
  {
   "cell_type": "code",
   "execution_count": 19,
   "id": "e5a051d3",
   "metadata": {},
   "outputs": [],
   "source": [
    "# HashTable class to store and retrieve key-value pairs\n",
    "class HashTable:\n",
    "    def __init__(self, capacity):\n",
    "        self.capacity = capacity # size of the array\n",
    "        self.size = 0 # number of elements in the hash table\n",
    "        self.table = [None] * capacity # array to hold the key-value pairs\n",
    "\n",
    "    # Hash function to map a key to an index\n",
    "    def _hash(self, key):\n",
    "        return hash(key) % self.capacity\n",
    "\n",
    "    # Insert method to add a key-value pair to the hash table\n",
    "    def insert(self, key, value):\n",
    "        index = self._hash(key) # get the index from the hash function\n",
    "        if self.table[index] is None: # if the slot is empty\n",
    "            self.table[index] = (key, value) # insert the key-value pair as a tuple\n",
    "            self.size += 1 # increment the size of the hash table\n",
    "        elif self.table[index][0] == key: # if the slot has the same key\n",
    "            self.table[index] = (key, value) # update the value\n",
    "        else: # if the slot has a different key (collision)\n",
    "            index = (index + 1) % self.capacity # get the next index using linear probing\n",
    "            while self.table[index] is not None and self.table[index][0] != key: # loop until an empty slot or the same key is found\n",
    "                index = (index + 1) % self.capacity # get the next index using linear probing\n",
    "            if self.table[index] is None: # if an empty slot is found\n",
    "                self.table[index] = (key, value) # insert the key-value pair as a tuple\n",
    "                self.size += 1 # increment the size of the hash table\n",
    "            elif self.table[index][0] == key: # if the same key is found\n",
    "                self.table[index] = (key, value) # update the value\n",
    "\n",
    "    # Retrieve method to get the value associated with a key\n",
    "    def retrieve(self, key):\n",
    "        index = self._hash(key) # get the index from the hash function\n",
    "        if self.table[index] is None: # if the slot is empty\n",
    "            return None # return None\n",
    "        elif self.table[index][0] == key: # if the slot has the same key\n",
    "            return self.table[index][1] # return the value\n",
    "        else: # if the slot has a different key (collision)\n",
    "            index = (index + 1) % self.capacity # get the next index using linear probing\n",
    "            while self.table[index] is not None and self.table[index][0] != key: # loop until an empty slot or the same key is found\n",
    "                index = (index + 1) % self.capacity # get the next index using linear probing\n",
    "            if self.table[index] is None: # if an empty slot is found\n",
    "                return None # return None\n",
    "            elif self.table[index][0] == key: # if the same key is found\n",
    "                return self.table[index][1] # return the value\n",
    "\n",
    "    # Delete method to remove a key-value pair from the hash table\n",
    "    def delete(self, key):\n",
    "        index = self._hash(key) # get the index from the hash function\n",
    "        if self.table[index] is None: # if the slot is empty\n",
    "            return False # return False indicating failure\n",
    "        elif self.table[index][0] == key: # if the slot has the same key\n",
    "            self.table[index] = None # delete the key-value pair by setting it to None\n",
    "            self.size -= 1 # decrement the size of the hash table \n",
    "            return True"
   ]
  },
  {
   "cell_type": "code",
   "execution_count": 20,
   "id": "c98c5507",
   "metadata": {},
   "outputs": [],
   "source": [
    "\n",
    "# Create a hash table with capacity 10\n",
    "ht = HashTable(10)\n",
    "\n",
    "# Insert some fruits and their prices\n",
    "ht.insert(\"apple\", 0.99)\n",
    "ht.insert(\"banana\", 0.59)\n",
    "ht.insert(\"orange\", 0.79)\n",
    "ht.insert(\"mango\", 1.29)\n",
    "ht.insert(\"kiwi\", 0.69)\n"
   ]
  },
  {
   "cell_type": "code",
   "execution_count": 21,
   "id": "117b9278",
   "metadata": {},
   "outputs": [
    {
     "name": "stdout",
     "output_type": "stream",
     "text": [
      "0.99\n",
      "1.29\n",
      "None\n"
     ]
    }
   ],
   "source": [
    "# Get the price of an apple\n",
    "print(ht.retrieve(\"apple\")) # 0.99\n",
    "\n",
    "# Get the price of a mango\n",
    "print(ht.retrieve(\"mango\")) # 1.29\n",
    "\n",
    "# Get the price of a fruit that is not in the hash table\n",
    "print(ht.retrieve(\"pear\")) # None\n"
   ]
  },
  {
   "cell_type": "code",
   "execution_count": 22,
   "id": "8cca97af",
   "metadata": {},
   "outputs": [
    {
     "name": "stdout",
     "output_type": "stream",
     "text": [
      "True\n",
      "None\n",
      "False\n"
     ]
    }
   ],
   "source": [
    "# Delete the banana from the hash table\n",
    "print(ht.delete(\"banana\")) # True\n",
    "\n",
    "# Try to get the price of a banana after deleting it\n",
    "print(ht.retrieve(\"banana\")) # None\n",
    "\n",
    "# Try to delete a fruit that is not in the hash table\n",
    "print(ht.delete(\"pear\")) # False\n"
   ]
  },
  {
   "cell_type": "code",
   "execution_count": 23,
   "id": "8860b0af",
   "metadata": {},
   "outputs": [
    {
     "name": "stdout",
     "output_type": "stream",
     "text": [
      "False\n",
      "None\n",
      "False\n"
     ]
    }
   ],
   "source": [
    "# Delete the banana from the hash table\n",
    "print(ht.delete(\"banana\")) # True\n",
    "\n",
    "# Try to get the price of a banana after deleting it\n",
    "print(ht.retrieve(\"banana\")) # None\n",
    "\n",
    "# Try to delete a fruit that is not in the hash table\n",
    "print(ht.delete(\"pear\")) # False\n"
   ]
  },
  {
   "cell_type": "code",
   "execution_count": null,
   "id": "cc0ddb5f",
   "metadata": {},
   "outputs": [],
   "source": []
  },
  {
   "cell_type": "code",
   "execution_count": null,
   "id": "9fc999f1",
   "metadata": {},
   "outputs": [],
   "source": []
  },
  {
   "cell_type": "code",
   "execution_count": null,
   "id": "f67d72d6",
   "metadata": {},
   "outputs": [],
   "source": []
  },
  {
   "cell_type": "code",
   "execution_count": null,
   "id": "b529e6c7",
   "metadata": {},
   "outputs": [],
   "source": []
  },
  {
   "cell_type": "code",
   "execution_count": null,
   "id": "31090d03",
   "metadata": {},
   "outputs": [],
   "source": []
  },
  {
   "cell_type": "code",
   "execution_count": null,
   "id": "8b7fc511",
   "metadata": {},
   "outputs": [],
   "source": []
  },
  {
   "cell_type": "code",
   "execution_count": null,
   "id": "dc97be26",
   "metadata": {},
   "outputs": [],
   "source": []
  },
  {
   "cell_type": "code",
   "execution_count": null,
   "id": "a9fd1376",
   "metadata": {},
   "outputs": [],
   "source": []
  },
  {
   "cell_type": "code",
   "execution_count": null,
   "id": "e384d43c",
   "metadata": {},
   "outputs": [],
   "source": []
  },
  {
   "cell_type": "code",
   "execution_count": null,
   "id": "a2ac48da",
   "metadata": {},
   "outputs": [],
   "source": []
  },
  {
   "cell_type": "code",
   "execution_count": null,
   "id": "213c6752",
   "metadata": {},
   "outputs": [],
   "source": []
  },
  {
   "cell_type": "code",
   "execution_count": null,
   "id": "c87c1635",
   "metadata": {},
   "outputs": [],
   "source": []
  },
  {
   "cell_type": "code",
   "execution_count": null,
   "id": "8003bdec",
   "metadata": {},
   "outputs": [],
   "source": []
  },
  {
   "cell_type": "code",
   "execution_count": null,
   "id": "e65b4696",
   "metadata": {},
   "outputs": [],
   "source": []
  },
  {
   "cell_type": "code",
   "execution_count": null,
   "id": "b4949a67",
   "metadata": {},
   "outputs": [],
   "source": []
  },
  {
   "cell_type": "code",
   "execution_count": null,
   "id": "13b023d9",
   "metadata": {},
   "outputs": [],
   "source": []
  }
 ],
 "metadata": {
  "kernelspec": {
   "display_name": "Python 3 (ipykernel)",
   "language": "python",
   "name": "python3"
  },
  "language_info": {
   "codemirror_mode": {
    "name": "ipython",
    "version": 3
   },
   "file_extension": ".py",
   "mimetype": "text/x-python",
   "name": "python",
   "nbconvert_exporter": "python",
   "pygments_lexer": "ipython3",
   "version": "3.9.13"
  }
 },
 "nbformat": 4,
 "nbformat_minor": 5
}
