{
 "cells": [
  {
   "cell_type": "markdown",
   "id": "94910007",
   "metadata": {},
   "source": [
    "## Hash table"
   ]
  },
  {
   "cell_type": "code",
   "execution_count": null,
   "id": "c3bc122a",
   "metadata": {},
   "outputs": [],
   "source": []
  },
  {
   "cell_type": "markdown",
   "id": "80479bdd",
   "metadata": {},
   "source": [
    "### Define a node class for the linked list"
   ]
  },
  {
   "cell_type": "code",
   "execution_count": 1,
   "id": "46ac8dde",
   "metadata": {},
   "outputs": [],
   "source": [
    "class Node:\n",
    "    def __init__(self,key,value):\n",
    "        self.key = key\n",
    "        self.value = value\n",
    "        self.next = None\n",
    "        "
   ]
  },
  {
   "cell_type": "markdown",
   "id": "a6f74cb7",
   "metadata": {},
   "source": [
    "### Define a hashtable class\n"
   ]
  },
  {
   "cell_type": "code",
   "execution_count": 10,
   "id": "cb4853ba",
   "metadata": {},
   "outputs": [],
   "source": [
    "class HashTable :\n",
    "    def __init__(self,capacity):\n",
    "        self.capacity = capacity\n",
    "        self.size = 0 # no.of k-v pairs in hash table\n",
    "        self.table  = [None] * capacity\n",
    "        \n",
    "        \n",
    "    # Define a hash function to map a key to an index\n",
    "    \n",
    "    def _hash(self,key):\n",
    "        return hash(key) % self.capacity\n",
    "    \n",
    "    # Insert\n",
    "    \n",
    "    def insert ( self, key , value):\n",
    "        index = self._hash(key)   # 1.get the index of hash()\n",
    "        if self.table[index] is None:  # 2.check if there is any linked list at that index \n",
    "            self.table[index]  = Node(key,value)  # 3. if its nOne , create new node and make it has head \n",
    "            \n",
    "            self.size +=1\n",
    "            \n",
    "        else: # if already a linked list exits in index\n",
    "            temp = self.table[index] # get the head\n",
    "            \n",
    "            while temp :\n",
    "                if temp.key == key :\n",
    "                    temp.value = value\n",
    "                    return \n",
    "                temp = temp.next #Move to the nxt node\n",
    "                \n",
    "            new_node = Node(key,value)\n",
    "            new_node.next = self.table[index]\n",
    "            self.table[index] = new_node\n",
    "            \n",
    "            \n",
    "        \n",
    "    # Retrieve\n",
    "    def get(self, key):\n",
    "        index = self._hash(key)\n",
    "        if self.table[index] is None:\n",
    "            return None\n",
    "        else:\n",
    "            temp = self.table[index]\n",
    "            while temp:\n",
    "                if temp.key == key:\n",
    "                    return temp.value\n",
    "                temp = temp.next\n",
    "            return None\n",
    "\n",
    "        \n",
    "   \n",
    "    # Delete\n",
    "        \n",
    "    def delete(self,key):\n",
    "        index = self._hash(key)\n",
    "        if self.table[index] is None: \n",
    "            return None\n",
    "        else:\n",
    "            temp = self.table[index]\n",
    "            prev = None\n",
    "            while temp:\n",
    "                if temp.key == key:\n",
    "                    if prev is None:\n",
    "                        self.table[index] = temp.next\n",
    "                    else:\n",
    "                        prev.next = temp.next \n",
    "                        \n",
    "                        self.size = -1\n",
    "                        return temp.value\n",
    "                    prev = temp\n",
    "                    temp = temp.next \n",
    "                        \n",
    "    # Display\n",
    "                \n",
    "    def display(self):\n",
    "        for i in range(self.capacity):\n",
    "            print(f \"Index {i} : \",end='')\n",
    "            temp = self.table[i]\n",
    "            while temp :\n",
    "                print(f\"({temp.key}: {temp.value})\",end='')\n",
    "                temp = temp.next\n",
    "            print()\n",
    "            \n",
    "        "
   ]
  },
  {
   "cell_type": "code",
   "execution_count": 11,
   "id": "74debedf",
   "metadata": {},
   "outputs": [
    {
     "name": "stdout",
     "output_type": "stream",
     "text": [
      "Index 0 : (apple: 10)\n",
      "Index 1 : (cherry: 15)\n",
      "Index 2 : (banana: 5)\n",
      "Index 3 : (date: 20)\n",
      "Index 4 : \n"
     ]
    }
   ],
   "source": [
    "# Create a hashtable with capacity of 5\n",
    "hash_table = HashTable(5)\n",
    "\n",
    "# Insert key-value pairs\n",
    "hash_table.insert(\"apple\", 10)\n",
    "hash_table.insert(\"banana\", 5)\n",
    "hash_table.insert(\"cherry\", 15)\n",
    "hash_table.insert(\"date\", 20)\n",
    "\n",
    "\n",
    "\n",
    "# Display the hashtable\n",
    "hash_table.display()\n"
   ]
  },
  {
   "cell_type": "code",
   "execution_count": 12,
   "id": "c6fac2ac",
   "metadata": {},
   "outputs": [
    {
     "name": "stdout",
     "output_type": "stream",
     "text": [
      "15\n"
     ]
    }
   ],
   "source": [
    "# Retrieve values\n",
    "print(hash_table.get(\"cherry\"))"
   ]
  },
  {
   "cell_type": "code",
   "execution_count": 13,
   "id": "c0ad0cc6",
   "metadata": {},
   "outputs": [
    {
     "name": "stdout",
     "output_type": "stream",
     "text": [
      "10\n"
     ]
    }
   ],
   "source": [
    "print(hash_table.get(\"apple\"))"
   ]
  },
  {
   "cell_type": "code",
   "execution_count": 14,
   "id": "fed40b54",
   "metadata": {},
   "outputs": [
    {
     "name": "stdout",
     "output_type": "stream",
     "text": [
      "8\n"
     ]
    }
   ],
   "source": [
    "# Update value\n",
    "hash_table.insert(\"banana\", 8)\n",
    "print(hash_table.get(\"banana\"))"
   ]
  },
  {
   "cell_type": "code",
   "execution_count": 17,
   "id": "59219972",
   "metadata": {},
   "outputs": [
    {
     "name": "stdout",
     "output_type": "stream",
     "text": [
      "Index 0 : (apple: 10)\n",
      "Index 1 : \n",
      "Index 2 : (banana: 8)\n",
      "Index 3 : (date: 20)\n",
      "Index 4 : \n"
     ]
    }
   ],
   "source": [
    "hash_table.delete(\"cherry\")\n",
    "hash_table.display()"
   ]
  }
 ],
 "metadata": {
  "kernelspec": {
   "display_name": "Python 3 (ipykernel)",
   "language": "python",
   "name": "python3"
  },
  "language_info": {
   "codemirror_mode": {
    "name": "ipython",
    "version": 3
   },
   "file_extension": ".py",
   "mimetype": "text/x-python",
   "name": "python",
   "nbconvert_exporter": "python",
   "pygments_lexer": "ipython3",
   "version": "3.9.13"
  }
 },
 "nbformat": 4,
 "nbformat_minor": 5
}
