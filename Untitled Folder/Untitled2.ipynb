{
 "cells": [
  {
   "cell_type": "code",
   "execution_count": null,
   "id": "62054aad",
   "metadata": {},
   "outputs": [],
   "source": []
  },
  {
   "cell_type": "code",
   "execution_count": 1,
   "id": "ac7b887f",
   "metadata": {},
   "outputs": [],
   "source": [
    "class Node:\n",
    "    def __init__(self,key,value):\n",
    "        self.key = key \n",
    "        self.value = value\n",
    "        self.next = None\n",
    "        \n",
    "    "
   ]
  },
  {
   "cell_type": "code",
   "execution_count": null,
   "id": "938b3013",
   "metadata": {},
   "outputs": [],
   "source": []
  },
  {
   "cell_type": "code",
   "execution_count": 4,
   "id": "271adb01",
   "metadata": {},
   "outputs": [],
   "source": [
    "class hashtabel:\n",
    "    \n",
    "    def __init__(self,capacity):\n",
    "        self.capacity = capacity\n",
    "        self.size = size \n",
    "        self.table = [None]*capacity\n"
   ]
  },
  {
   "cell_type": "code",
   "execution_count": 5,
   "id": "db81456b",
   "metadata": {},
   "outputs": [],
   "source": [
    "def _hash(self,key):\n",
    "    return hash(key) % self.capacity\n"
   ]
  },
  {
   "cell_type": "code",
   "execution_count": null,
   "id": "e465712c",
   "metadata": {},
   "outputs": [],
   "source": []
  },
  {
   "cell_type": "code",
   "execution_count": null,
   "id": "04b32f42",
   "metadata": {},
   "outputs": [],
   "source": [
    "def insert(self,key,value):\n",
    "    index = self._hash(key)\n",
    "    \n",
    "    if self.table[index] is None:\n",
    "        self.table[index] = Node(key,value)\n",
    "        self.size +=1\n",
    "        \n",
    "    else:#overwrite\n",
    "        temp = self.table[index]\n",
    "        while temp:\n",
    "            if temp.key== key :\n",
    "                temp.value = value\n",
    "                return \n",
    "        temp = temp.next \n",
    "        \n",
    "    new_node = Node(key,value)\n",
    "    new_node.next = self.tabel[index]\n",
    "    self.tabel[index] = new_node"
   ]
  },
  {
   "cell_type": "code",
   "execution_count": null,
   "id": "1559d62c",
   "metadata": {},
   "outputs": [],
   "source": []
  },
  {
   "cell_type": "code",
   "execution_count": 6,
   "id": "cd5a1d4f",
   "metadata": {},
   "outputs": [],
   "source": [
    "def Insert(self,key,value):\n",
    "    index = self._hash(key) \n",
    "    if self.tabel[index] is None:\n",
    "        self.tabel[index] = Node(key,value)\n",
    "        size +=1\n",
    "        \n",
    "    else:\n",
    "        temp = self.tabel[index]\n",
    "        while temp:\n",
    "            if temp.key == key:\n",
    "                temp.value = value\n",
    "            return\n",
    "        temp = temp.next \n",
    "        \n",
    "    new = Node(key,value)\n",
    "    new.next = self.tabel[index]\n",
    "    self.tabel[index] = new\n",
    "    "
   ]
  },
  {
   "cell_type": "code",
   "execution_count": null,
   "id": "06d1c1b2",
   "metadata": {},
   "outputs": [],
   "source": []
  },
  {
   "cell_type": "code",
   "execution_count": null,
   "id": "7785071a",
   "metadata": {},
   "outputs": [],
   "source": [
    "def get(self,key):\n",
    "    index = self._hash(key)\n",
    "    \n",
    "    if self.tabel[index] is None:\n",
    "        return None\n",
    "    temp = self.tabel[index]\n",
    "    while temp:\n",
    "        if temp.key == key :\n",
    "            return temp.value \n",
    "        temp = temp.next \n",
    "    return None"
   ]
  },
  {
   "cell_type": "code",
   "execution_count": null,
   "id": "ce8a5d6c",
   "metadata": {},
   "outputs": [],
   "source": []
  },
  {
   "cell_type": "code",
   "execution_count": null,
   "id": "2a5b64f5",
   "metadata": {},
   "outputs": [],
   "source": [
    "def delete(self,key):\n",
    "    index = self._hash(key)\n",
    "    if self.tabel[index] is None:\n",
    "        return None\n",
    "    \n",
    "    else:\n",
    "        temp = self.tabel[index] \n",
    "        prev = None\n",
    "        while temp:\n",
    "            if temp.key == key:\n",
    "                if temp.prev is None:\n",
    "                    self.tabel[index] = temp.next\n",
    "                else:\n",
    "                    previous.next = temp.next \n",
    "                    temp = temp.next \n",
    "                    \n",
    "                self.size -=1\n",
    "                return temp.value\n",
    "            prev = temp \n",
    "            temp = temp.next "
   ]
  },
  {
   "cell_type": "code",
   "execution_count": null,
   "id": "01742bc0",
   "metadata": {},
   "outputs": [],
   "source": []
  },
  {
   "cell_type": "code",
   "execution_count": 10,
   "id": "5e3cb8db",
   "metadata": {},
   "outputs": [],
   "source": [
    "def delete(self,key):\n",
    "    index = self._hash(key)\n",
    "    if self.tabel[index] is None:\n",
    "        return None\n",
    "    else:\n",
    "        temp = self.tabel[index]\n",
    "        prev = None\n",
    "        \n",
    "        while temp:\n",
    "            if temp.key == key :\n",
    "                if temp.prev is None:\n",
    "                    self.tabel[index] = temp.next \n",
    "                else:\n",
    "                    previous.next = temp.next \n",
    "                    temp = temp.next \n",
    "                    \n",
    "                self.size -=1\n",
    "                return temp.value\n",
    "            prev = temp\n",
    "            temp = temp.next \n",
    "            "
   ]
  },
  {
   "cell_type": "code",
   "execution_count": 11,
   "id": "f1d5edf5",
   "metadata": {},
   "outputs": [],
   "source": [
    "\n",
    "def display(self):\n",
    "    for i in range(self.capacity):\n",
    "        print(f\"Index {i}\" , end='')\n",
    "        temp = self.tabel[i]\n",
    "        while temp :\n",
    "            print(f\"({temp.key} : {temp.value})\" , end= '')\n",
    "            temp = temp.next \n",
    "        print()\n"
   ]
  },
  {
   "cell_type": "code",
   "execution_count": null,
   "id": "41789d94",
   "metadata": {},
   "outputs": [],
   "source": []
  },
  {
   "cell_type": "code",
   "execution_count": null,
   "id": "26ed1529",
   "metadata": {},
   "outputs": [],
   "source": []
  },
  {
   "cell_type": "code",
   "execution_count": null,
   "id": "45301c90",
   "metadata": {},
   "outputs": [],
   "source": []
  },
  {
   "cell_type": "code",
   "execution_count": null,
   "id": "76e6094c",
   "metadata": {},
   "outputs": [],
   "source": []
  },
  {
   "cell_type": "code",
   "execution_count": null,
   "id": "626ef8c6",
   "metadata": {},
   "outputs": [],
   "source": []
  },
  {
   "cell_type": "code",
   "execution_count": null,
   "id": "a85098d3",
   "metadata": {},
   "outputs": [],
   "source": []
  }
 ],
 "metadata": {
  "kernelspec": {
   "display_name": "Python 3 (ipykernel)",
   "language": "python",
   "name": "python3"
  },
  "language_info": {
   "codemirror_mode": {
    "name": "ipython",
    "version": 3
   },
   "file_extension": ".py",
   "mimetype": "text/x-python",
   "name": "python",
   "nbconvert_exporter": "python",
   "pygments_lexer": "ipython3",
   "version": "3.9.13"
  }
 },
 "nbformat": 4,
 "nbformat_minor": 5
}
