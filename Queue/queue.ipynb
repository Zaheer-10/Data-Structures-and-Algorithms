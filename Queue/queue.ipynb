{
 "cells": [
  {
   "cell_type": "code",
   "execution_count": null,
   "id": "fc68c494",
   "metadata": {},
   "outputs": [],
   "source": []
  },
  {
   "cell_type": "code",
   "execution_count": 7,
   "id": "4afa673b",
   "metadata": {},
   "outputs": [
    {
     "name": "stdout",
     "output_type": "stream",
     "text": [
      "123\n",
      "321\n",
      "852\n"
     ]
    }
   ],
   "source": [
    "class Queue:\n",
    "    def __init__ (self):\n",
    "        self.queue = []\n",
    "        \n",
    "    def enqueue(self,data):\n",
    "        self.queue.append(data)\n",
    "        \n",
    "    def dequeue(self):\n",
    "        if self.queue:\n",
    "            return self.queue.pop(0)\n",
    "        else:\n",
    "            return None\n",
    "        \n",
    "    def peek(self):\n",
    "        if self.queue:\n",
    "            return self.queue[0]\n",
    "        else:\n",
    "            print(\"EMPTY\")\n",
    "            \n",
    "    def display(self):\n",
    "        for i in self.queue:\n",
    "            print(i )\n",
    "        \n",
    "            \n",
    "q = Queue()\n",
    "q.enqueue(123)\n",
    "q.enqueue(321)\n",
    "q.enqueue(852)\n",
    "\n",
    "q.display()"
   ]
  },
  {
   "cell_type": "code",
   "execution_count": 9,
   "id": "c8895c9f",
   "metadata": {},
   "outputs": [
    {
     "name": "stdout",
     "output_type": "stream",
     "text": [
      "321\n",
      "852\n"
     ]
    }
   ],
   "source": [
    "q.dequeue()\n",
    "q.display()"
   ]
  },
  {
   "cell_type": "code",
   "execution_count": null,
   "id": "7e3b54bc",
   "metadata": {},
   "outputs": [],
   "source": []
  },
  {
   "cell_type": "code",
   "execution_count": null,
   "id": "1c3c4abc",
   "metadata": {},
   "outputs": [],
   "source": []
  }
 ],
 "metadata": {
  "kernelspec": {
   "display_name": "Python 3 (ipykernel)",
   "language": "python",
   "name": "python3"
  },
  "language_info": {
   "codemirror_mode": {
    "name": "ipython",
    "version": 3
   },
   "file_extension": ".py",
   "mimetype": "text/x-python",
   "name": "python",
   "nbconvert_exporter": "python",
   "pygments_lexer": "ipython3",
   "version": "3.9.13"
  }
 },
 "nbformat": 4,
 "nbformat_minor": 5
}
