{
 "cells": [
  {
   "cell_type": "markdown",
   "id": "046bee1c",
   "metadata": {},
   "source": [
    "## Binary Search "
   ]
  },
  {
   "cell_type": "code",
   "execution_count": null,
   "id": "a2b72ab1",
   "metadata": {},
   "outputs": [],
   "source": [
    "def binary_search (array , low , high , target):\n",
    "    if low > high :\n",
    "        return -1 \n",
    "    mid = (low+high)//2\n",
    "    if array[mid]== targert "
   ]
  },
  {
   "cell_type": "code",
   "execution_count": 17,
   "id": "72b07ced",
   "metadata": {},
   "outputs": [
    {
     "name": "stdout",
     "output_type": "stream",
     "text": [
      "131313\n",
      "20\n",
      "500\n",
      "40\n",
      "40\n",
      "500\n",
      "20\n",
      "131313\n"
     ]
    }
   ],
   "source": [
    "class Node :\n",
    "    def __init__(self,data):\n",
    "        self.data = data \n",
    "        self.next = None\n",
    "        \n",
    "class SLL :\n",
    "    def __init__(self):\n",
    "        self.head = None\n",
    "        \n",
    "    def B(self , data):\n",
    "        new = Node(data)\n",
    "        new.next = self.head \n",
    "        self.head = new \n",
    "        \n",
    "    def E(self, data):\n",
    "        new = Node(data)\n",
    "        temp = self.head \n",
    "        \n",
    "        while temp.next :\n",
    "            temp = temp.next \n",
    "        temp.next = new\n",
    "        \n",
    "    def SP(self, pos , data):\n",
    "        new = Node(data)\n",
    "        temp = self.head\n",
    "        for i in range (1,pos-1):\n",
    "            temp = temp.next \n",
    "        new.next = temp.next \n",
    "        temp.next = new \n",
    "        \n",
    "        \n",
    "    def DB(self):\n",
    "        self.head = self.head.next \n",
    "        \n",
    "    def DE(self):\n",
    "        temp = self.head.next\n",
    "        prev = self.head\n",
    "        while temp.next :\n",
    "            temp = temp.next \n",
    "            prev = prev.next\n",
    "        prev.next = None\n",
    "        \n",
    "    def DSP(self, pos):\n",
    "        temp = self.head.next\n",
    "        prev = self.head\n",
    "        \n",
    "        for i in range(1,pos-1):\n",
    "            temp = temp.next \n",
    "            prev = prev.next \n",
    "        prev.next = temp.next \n",
    "        temp.next = None\n",
    "    \n",
    "    \n",
    "    def reverse (self):\n",
    "        elements = []\n",
    "        temp = self.head\n",
    "        while temp :\n",
    "            elements.insert(0,temp.data)\n",
    "            temp = temp.next \n",
    "        for i in elements :\n",
    "            print(i)\n",
    "        \n",
    "    def traverse(self):\n",
    "        temp = self.head \n",
    "        \n",
    "        while temp :\n",
    "            print(temp.data)\n",
    "            temp = temp.next \n",
    "            \n",
    "            \n",
    "n = Node(10)\n",
    "n1= Node(20)\n",
    "n2 = Node(500)\n",
    "n3 = Node(40)\n",
    "\n",
    "l = SLL()\n",
    "\n",
    "l.head = n\n",
    "n.next = n1\n",
    "n1.next = n2\n",
    "n2.next = n3\n",
    "\n",
    "l.B(11111)\n",
    "l.E(9999)\n",
    "l.SP(2,131313)\n",
    "l.DB()\n",
    "l.DE()\n",
    "l.DSP(1)\n",
    "\n",
    "l.traverse()\n",
    "l.reverse()"
   ]
  },
  {
   "cell_type": "code",
   "execution_count": null,
   "id": "a63c7d51",
   "metadata": {},
   "outputs": [],
   "source": []
  },
  {
   "cell_type": "code",
   "execution_count": null,
   "id": "bb0dda0f",
   "metadata": {},
   "outputs": [],
   "source": []
  }
 ],
 "metadata": {
  "kernelspec": {
   "display_name": "Python 3 (ipykernel)",
   "language": "python",
   "name": "python3"
  },
  "language_info": {
   "codemirror_mode": {
    "name": "ipython",
    "version": 3
   },
   "file_extension": ".py",
   "mimetype": "text/x-python",
   "name": "python",
   "nbconvert_exporter": "python",
   "pygments_lexer": "ipython3",
   "version": "3.9.13"
  }
 },
 "nbformat": 4,
 "nbformat_minor": 5
}
