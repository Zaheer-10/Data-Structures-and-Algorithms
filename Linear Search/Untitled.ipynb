{
 "cells": [
  {
   "cell_type": "code",
   "execution_count": 23,
   "id": "1d8c165a",
   "metadata": {},
   "outputs": [
    {
     "name": "stdout",
     "output_type": "stream",
     "text": [
      "None\n"
     ]
    }
   ],
   "source": [
    "def linear_search (array,target):\n",
    "    for i in range(len(array)):\n",
    "        if array[i] == target :\n",
    "            return i\n",
    "        else:\n",
    "            return -1\n",
    "\n",
    "\n",
    "array = [1,3,5,2,3,5,1]\n",
    "t  = 3\n",
    "ls = linear_search(array , t)\n",
    "\n",
    "if ls !=-1:\n",
    "    print(ls)\n",
    "else :\n",
    "    print(None)\n"
   ]
  }
 ],
 "metadata": {
  "kernelspec": {
   "display_name": "Python 3 (ipykernel)",
   "language": "python",
   "name": "python3"
  },
  "language_info": {
   "codemirror_mode": {
    "name": "ipython",
    "version": 3
   },
   "file_extension": ".py",
   "mimetype": "text/x-python",
   "name": "python",
   "nbconvert_exporter": "python",
   "pygments_lexer": "ipython3",
   "version": "3.9.13"
  }
 },
 "nbformat": 4,
 "nbformat_minor": 5
}
