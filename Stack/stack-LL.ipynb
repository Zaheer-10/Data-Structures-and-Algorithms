{
 "cells": [
  {
   "cell_type": "code",
   "execution_count": null,
   "id": "12ea1418",
   "metadata": {},
   "outputs": [],
   "source": []
  },
  {
   "cell_type": "code",
   "execution_count": 47,
   "id": "f8515816",
   "metadata": {},
   "outputs": [
    {
     "name": "stdout",
     "output_type": "stream",
     "text": [
      "1\n",
      "36\n",
      "20\n",
      "133\n"
     ]
    }
   ],
   "source": [
    "class Node:\n",
    "    def __init__(self, data):\n",
    "        self.data = data\n",
    "        self.next = None\n",
    "        \n",
    "class STACK :\n",
    "    def __init__(self):\n",
    "        self.top = None\n",
    "        \n",
    "    def Push(self,data):\n",
    "        new_node = Node(data)\n",
    "        if self.top is None:\n",
    "            self.top = new_node\n",
    "        else:\n",
    "            new_node.next = self.top\n",
    "            self.top = new_node\n",
    "    def is_empty(self):\n",
    "        return self.top is None\n",
    "    \n",
    "    def Pop(self):\n",
    "        popped_node = self.top\n",
    "        self.top = self.top.next\n",
    "        popped_node.next = None\n",
    "        return popped_node.data\n",
    "    \n",
    "    def peek(self):\n",
    "        return self.top.data\n",
    "    \n",
    "    def reverse(self):\n",
    "        R = STACK()\n",
    "        \n",
    "        while not self.is_empty():\n",
    "            ele = self.Pop()\n",
    "            R.Push(ele)\n",
    "        self.top = R.top\n",
    "        return R\n",
    "        \n",
    "    def display(self):\n",
    "        temp = self.top \n",
    "        while temp :\n",
    "            print(temp.data)\n",
    "            temp = temp.next \n",
    "            \n",
    "s = STACK()\n",
    "s.Push(133)\n",
    "s.Push(20)\n",
    "s.Push(36)\n",
    "s.Push(1)\n",
    "\n",
    "s.display()\n",
    "        "
   ]
  },
  {
   "cell_type": "code",
   "execution_count": 27,
   "id": "42110c1b",
   "metadata": {},
   "outputs": [
    {
     "data": {
      "text/plain": [
       "1"
      ]
     },
     "execution_count": 27,
     "metadata": {},
     "output_type": "execute_result"
    }
   ],
   "source": [
    "s.peek()"
   ]
  },
  {
   "cell_type": "code",
   "execution_count": 28,
   "id": "5df76e38",
   "metadata": {
    "scrolled": true
   },
   "outputs": [
    {
     "data": {
      "text/plain": [
       "1"
      ]
     },
     "execution_count": 28,
     "metadata": {},
     "output_type": "execute_result"
    }
   ],
   "source": [
    "s.Pop()"
   ]
  },
  {
   "cell_type": "code",
   "execution_count": 29,
   "id": "002ea5e7",
   "metadata": {},
   "outputs": [
    {
     "name": "stdout",
     "output_type": "stream",
     "text": [
      "36\n",
      "20\n",
      "133\n"
     ]
    }
   ],
   "source": [
    "s.display()"
   ]
  },
  {
   "cell_type": "code",
   "execution_count": 30,
   "id": "416bffc1",
   "metadata": {},
   "outputs": [
    {
     "data": {
      "text/plain": [
       "36"
      ]
     },
     "execution_count": 30,
     "metadata": {},
     "output_type": "execute_result"
    }
   ],
   "source": [
    "s.peek()"
   ]
  },
  {
   "cell_type": "code",
   "execution_count": 50,
   "id": "0cb8950b",
   "metadata": {},
   "outputs": [
    {
     "data": {
      "text/plain": [
       "<__main__.STACK at 0x1e3ebff1fd0>"
      ]
     },
     "execution_count": 50,
     "metadata": {},
     "output_type": "execute_result"
    }
   ],
   "source": [
    "s.reverse()"
   ]
  },
  {
   "cell_type": "code",
   "execution_count": 51,
   "id": "dc397589",
   "metadata": {},
   "outputs": [
    {
     "name": "stdout",
     "output_type": "stream",
     "text": [
      "133\n",
      "20\n",
      "36\n",
      "1\n"
     ]
    }
   ],
   "source": [
    "s.display()"
   ]
  },
  {
   "cell_type": "markdown",
   "id": "b18b8ca3",
   "metadata": {},
   "source": [
    "## : Implement Stack using List"
   ]
  }
 ],
 "metadata": {
  "kernelspec": {
   "display_name": "Python 3 (ipykernel)",
   "language": "python",
   "name": "python3"
  },
  "language_info": {
   "codemirror_mode": {
    "name": "ipython",
    "version": 3
   },
   "file_extension": ".py",
   "mimetype": "text/x-python",
   "name": "python",
   "nbconvert_exporter": "python",
   "pygments_lexer": "ipython3",
   "version": "3.9.13"
  }
 },
 "nbformat": 4,
 "nbformat_minor": 5
}
