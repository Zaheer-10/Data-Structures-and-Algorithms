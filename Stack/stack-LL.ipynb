{
 "cells": [
  {
   "cell_type": "markdown",
   "id": "f9c3c39c",
   "metadata": {},
   "source": [
    "# IMPLEMENTATION OF STACK USING LINKED LIST\n"
   ]
  },
  {
   "cell_type": "code",
   "execution_count": 8,
   "id": "da2c852d",
   "metadata": {},
   "outputs": [
    {
     "name": "stdout",
     "output_type": "stream",
     "text": [
      "1\n",
      "36\n",
      "20\n",
      "133\n"
     ]
    },
    {
     "data": {
      "text/plain": [
       "'\\n1\\n36\\n20\\n133\\n'"
      ]
     },
     "execution_count": 8,
     "metadata": {},
     "output_type": "execute_result"
    }
   ],
   "source": [
    "class Node:\n",
    "    def __init__(self, data):\n",
    "        self.data = data\n",
    "        self.next = None\n",
    "        \n",
    "class STACK :\n",
    "    def __init__(self):\n",
    "        self.top = None\n",
    "        \n",
    "    def Push(self,data):\n",
    "        new_node = Node(data)\n",
    "        if self.top is None:\n",
    "            self.top = new_node\n",
    "        else:\n",
    "            new_node.next = self.top\n",
    "            self.top = new_node\n",
    "            \n",
    "    def is_empty(self):\n",
    "        return self.top is None\n",
    "    \n",
    "    def Pop(self):\n",
    "        popped_node = self.top\n",
    "        self.top = self.top.next\n",
    "        popped_node.next = None\n",
    "        return popped_node.data\n",
    "    \n",
    "    def peek(self):\n",
    "        return self.top.data\n",
    "    \n",
    "    def reverse(self):\n",
    "        R = STACK()\n",
    "        \n",
    "        while not self.is_empty():\n",
    "            ele = self.Pop()\n",
    "            R.Push(ele)\n",
    "        self.top = R.top\n",
    "        return R\n",
    "        \n",
    "    def display(self):\n",
    "        temp = self.top \n",
    "        while temp :\n",
    "            print(temp.data)\n",
    "            temp = temp.next \n",
    "            \n",
    "s = STACK()\n",
    "s.Push(133)\n",
    "s.Push(20)\n",
    "s.Push(36)\n",
    "s.Push(1)\n",
    "\n",
    "s.display()\n",
    "\n",
    "'''\n",
    "1\n",
    "36\n",
    "20\n",
    "133\n",
    "'''"
   ]
  },
  {
   "cell_type": "code",
   "execution_count": 9,
   "id": "4e5be33d",
   "metadata": {},
   "outputs": [
    {
     "data": {
      "text/plain": [
       "1"
      ]
     },
     "execution_count": 9,
     "metadata": {},
     "output_type": "execute_result"
    }
   ],
   "source": [
    "s.peek()"
   ]
  },
  {
   "cell_type": "code",
   "execution_count": 28,
   "id": "0c0d9282",
   "metadata": {
    "scrolled": true
   },
   "outputs": [
    {
     "data": {
      "text/plain": [
       "1"
      ]
     },
     "execution_count": 28,
     "metadata": {},
     "output_type": "execute_result"
    }
   ],
   "source": [
    "s.Pop()"
   ]
  },
  {
   "cell_type": "code",
   "execution_count": 10,
   "id": "59959765",
   "metadata": {},
   "outputs": [
    {
     "name": "stdout",
     "output_type": "stream",
     "text": [
      "1\n",
      "36\n",
      "20\n",
      "133\n"
     ]
    }
   ],
   "source": [
    "s.display()"
   ]
  },
  {
   "cell_type": "code",
   "execution_count": 30,
   "id": "3306aba7",
   "metadata": {},
   "outputs": [
    {
     "data": {
      "text/plain": [
       "36"
      ]
     },
     "execution_count": 30,
     "metadata": {},
     "output_type": "execute_result"
    }
   ],
   "source": [
    "s.peek()"
   ]
  },
  {
   "cell_type": "code",
   "execution_count": 50,
   "id": "6bb73d44",
   "metadata": {},
   "outputs": [
    {
     "data": {
      "text/plain": [
       "<__main__.STACK at 0x1e3ebff1fd0>"
      ]
     },
     "execution_count": 50,
     "metadata": {},
     "output_type": "execute_result"
    }
   ],
   "source": [
    "s.reverse()"
   ]
  },
  {
   "cell_type": "code",
   "execution_count": 51,
   "id": "8ab1731f",
   "metadata": {},
   "outputs": [
    {
     "name": "stdout",
     "output_type": "stream",
     "text": [
      "133\n",
      "20\n",
      "36\n",
      "1\n"
     ]
    }
   ],
   "source": [
    "s.display()"
   ]
  },
  {
   "cell_type": "markdown",
   "id": "a04135a2",
   "metadata": {},
   "source": [
    "## : Implement Stack using List"
   ]
  },
  {
   "cell_type": "code",
   "execution_count": 89,
   "id": "6517c37b",
   "metadata": {},
   "outputs": [
    {
     "name": "stdout",
     "output_type": "stream",
     "text": [
      "26\n",
      "45\n",
      "587\n",
      "58752\n"
     ]
    }
   ],
   "source": [
    "## : Implement Stack using List\n",
    "\n",
    "class Stack:\n",
    "    def __init__(self):\n",
    "        self.stack = []\n",
    "        \n",
    "    def push (self,data) :   \n",
    "        self.stack.append(data)\n",
    "        \n",
    "    def pop (self):\n",
    "        if self.stack:\n",
    "            self.stack.pop()\n",
    "        else:\n",
    "            print(\"stack is empty\")\n",
    "            \n",
    "    def peek(self):\n",
    "        if self.stack:\n",
    "            return self.stack[-1]\n",
    "        else:\n",
    "            print(\"EMpty stack\")\n",
    "    \n",
    "    def is_empty(self):\n",
    "        if len(self.stack) == 0 :\n",
    "            print('empty')\n",
    "            \n",
    "    def display(self):\n",
    "        for i in self.stack:\n",
    "            print(i)\n",
    "            \n",
    "    def reverse(self):\n",
    "        self.stack.reverse()\n",
    "        for i in self.stack :\n",
    "            print(i)\n",
    "            \n",
    "st = Stack()\n",
    "st.push(26)\n",
    "st.push(45)\n",
    "st.push(587)\n",
    "st.push(58752)\n",
    "st.display()"
   ]
  },
  {
   "cell_type": "code",
   "execution_count": 90,
   "id": "e9e0dad7",
   "metadata": {},
   "outputs": [],
   "source": [
    "st.pop()"
   ]
  },
  {
   "cell_type": "code",
   "execution_count": 91,
   "id": "d4eddb0e",
   "metadata": {},
   "outputs": [
    {
     "name": "stdout",
     "output_type": "stream",
     "text": [
      "26\n",
      "45\n",
      "587\n"
     ]
    }
   ],
   "source": [
    "st.display()"
   ]
  },
  {
   "cell_type": "code",
   "execution_count": 82,
   "id": "d38f0bdc",
   "metadata": {},
   "outputs": [
    {
     "data": {
      "text/plain": [
       "587"
      ]
     },
     "execution_count": 82,
     "metadata": {},
     "output_type": "execute_result"
    }
   ],
   "source": [
    "st.peek()"
   ]
  },
  {
   "cell_type": "code",
   "execution_count": 84,
   "id": "db0cff40",
   "metadata": {},
   "outputs": [
    {
     "name": "stdout",
     "output_type": "stream",
     "text": [
      "587\n",
      "45\n",
      "26\n"
     ]
    }
   ],
   "source": [
    "st.reverse()"
   ]
  },
  {
   "cell_type": "code",
   "execution_count": 85,
   "id": "6f905ce3",
   "metadata": {},
   "outputs": [
    {
     "data": {
      "text/plain": [
       "26"
      ]
     },
     "execution_count": 85,
     "metadata": {},
     "output_type": "execute_result"
    }
   ],
   "source": [
    "st.peek()"
   ]
  },
  {
   "cell_type": "code",
   "execution_count": null,
   "id": "35ed2440",
   "metadata": {},
   "outputs": [],
   "source": [
    "def mid_ele(stack):\n",
    "    if len(stack) % 2 == 0:  # Even number of elements\n",
    "        mid = len(stack) // 2\n",
    "    else:  # Odd number of elements\n",
    "        mid = len(stack) // 2 + 1\n",
    "    \n",
    "    temp =[]\n",
    "    \n",
    "    for _ in range(mid):\n",
    "        temp.append(stack.pop())\n",
    "        \n",
    "    stack.pop()\n",
    "    \n",
    "    while temp:\n",
    "        stack.append(temp.pop)\n",
    "        \n",
    "    return stack \n",
    "\n",
    "a = [1,2,3,4,5]\n",
    "mid_ele(a)"
   ]
  }
 ],
 "metadata": {
  "kernelspec": {
   "display_name": "Python 3 (ipykernel)",
   "language": "python",
   "name": "python3"
  },
  "language_info": {
   "codemirror_mode": {
    "name": "ipython",
    "version": 3
   },
   "file_extension": ".py",
   "mimetype": "text/x-python",
   "name": "python",
   "nbconvert_exporter": "python",
   "pygments_lexer": "ipython3",
   "version": "3.9.13"
  }
 },
 "nbformat": 4,
 "nbformat_minor": 5
}
