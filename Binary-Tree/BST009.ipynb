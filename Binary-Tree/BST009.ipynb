{
 "cells": [
  {
   "attachments": {},
   "cell_type": "markdown",
   "id": "469eac45",
   "metadata": {},
   "source": [
    "Binary Search Implementation"
   ]
  },
  {
   "cell_type": "code",
   "execution_count": 11,
   "id": "64d7d4f4",
   "metadata": {
    "scrolled": true
   },
   "outputs": [
    {
     "name": "stdout",
     "output_type": "stream",
     "text": [
      "25  50  100  150  "
     ]
    }
   ],
   "source": [
    "class Binary_search_tree:\n",
    "    def __init__(self,data):\n",
    "        self.data = data\n",
    "        self.rchild = None\n",
    "        self.lchild = None\n",
    "        \n",
    "    def insert(self,data):\n",
    "        if self.data is None:\n",
    "            return None\n",
    "        \n",
    "        if data < self.data :\n",
    "            if self.lchild:\n",
    "                self.lchild.insert(data)\n",
    "            else:\n",
    "                self.lchild = Binary_search_tree(data)\n",
    "                \n",
    "        else:\n",
    "            if self.rchild:\n",
    "                self.rchild.insert(data)\n",
    "            else:\n",
    "                self.rchild = Binary_search_tree(data)\n",
    "                \n",
    "        \n",
    "    def search(self,data):\n",
    "        if self.data is None:\n",
    "            print(\"Tree is empty\")\n",
    "            return \n",
    "        \n",
    "        if self.data == data :\n",
    "            print(\"Found\")\n",
    "            return \n",
    "        \n",
    "        if data < self.data and self.lchild:\n",
    "            self.lchild.search(data)\n",
    "            \n",
    "        elif data > self.data and self.rchild:\n",
    "            self.rchild.search(data)\n",
    "            \n",
    "        else:\n",
    "            print(\"Search element doesn't exist in the tree\")\n",
    "            return \n",
    "        \n",
    "        \n",
    "    def preorder(self):\n",
    "        if self.data is None:\n",
    "            return None\n",
    "        \n",
    "        print(self.data , ' ' , end='')\n",
    "        if self.lchild:\n",
    "            self.lchild.preorder()\n",
    "        else:\n",
    "            return None\n",
    "        \n",
    "        if self.rchild :\n",
    "            self.rchild.preorder()\n",
    "        else:\n",
    "            return None\n",
    "        \n",
    "    \n",
    "        \n",
    "    def inorder(self):\n",
    "        if self.data is None:\n",
    "            return None\n",
    "        \n",
    "        if self.lchild:\n",
    "            self.lchild.inorder()\n",
    "            \n",
    "        else:\n",
    "            return None\n",
    "        \n",
    "        print(self.data,' ' , end= '')\n",
    "        \n",
    "        if self.rchild :\n",
    "            self.rchild.inorder()\n",
    "        else:\n",
    "            return None\n",
    "        \n",
    "        \n",
    "        \n",
    "        \n",
    "        \n",
    "        \n",
    "tree = Binary_search_tree(100)\n",
    "\n",
    "tree.insert(50)\n",
    "tree.insert(150)\n",
    "tree.insert(25)\n",
    "tree.insert(30)\n",
    "tree.insert(15)\n",
    "tree.insert(125)\n",
    "tree.insert(133)\n",
    "\n",
    "tree.inorder()"
   ]
  },
  {
   "cell_type": "code",
   "execution_count": 12,
   "id": "086c9434",
   "metadata": {},
   "outputs": [
    {
     "name": "stdout",
     "output_type": "stream",
     "text": [
      "100  50  25  15  30  150  125  "
     ]
    }
   ],
   "source": [
    "tree.preorder()"
   ]
  },
  {
   "cell_type": "code",
   "execution_count": 13,
   "id": "ecf9890d",
   "metadata": {},
   "outputs": [
    {
     "name": "stdout",
     "output_type": "stream",
     "text": [
      "Inorder traversal of the original BST:\n",
      "20 30 40 50 60 70 80 \n",
      "Inorder traversal after deleting 50 from the BST:\n",
      "20 30 40 60 70 80 "
     ]
    }
   ],
   "source": [
    "class Node:\n",
    "    def __init__(self, key):\n",
    "        self.key = key\n",
    "        self.left = None\n",
    "        self.right = None\n",
    "\n",
    "\n",
    "def inorder(root):\n",
    "    if root:\n",
    "        inorder(root.left)\n",
    "        print(root.key, end=\" \")\n",
    "        inorder(root.right)\n",
    "\n",
    "\n",
    "def insert(root, key):\n",
    "    if root is None:\n",
    "        return Node(key)\n",
    "    if key < root.key:\n",
    "        root.left = insert(root.left, key)\n",
    "    elif key > root.key:\n",
    "        root.right = insert(root.right, key)\n",
    "    return root\n",
    "\n",
    "\n",
    "def minValueNode(node):\n",
    "    current = node\n",
    "    while current.left is not None:\n",
    "        current = current.left\n",
    "    return current\n",
    "\n",
    "\n",
    "def deleteNode(root, key):\n",
    "    if root is None:\n",
    "        return root\n",
    "    if key < root.key:\n",
    "        root.left = deleteNode(root.left, key)\n",
    "    elif key > root.key:\n",
    "        root.right = deleteNode(root.right, key)\n",
    "    else:\n",
    "        if root.left is None:\n",
    "            temp = root.right\n",
    "            root = None\n",
    "            return temp\n",
    "        elif root.right is None:\n",
    "            temp = root.left\n",
    "            root = None\n",
    "            return temp\n",
    "        temp = minValueNode(root.right)\n",
    "        root.key = temp.key\n",
    "        root.right = deleteNode(root.right, temp.key)\n",
    "    return root\n",
    "\n",
    "\n"
   ]
  }
 ],
 "metadata": {
  "kernelspec": {
   "display_name": "Python 3 (ipykernel)",
   "language": "python",
   "name": "python3"
  },
  "language_info": {
   "codemirror_mode": {
    "name": "ipython",
    "version": 3
   },
   "file_extension": ".py",
   "mimetype": "text/x-python",
   "name": "python",
   "nbconvert_exporter": "python",
   "pygments_lexer": "ipython3",
   "version": "3.9.13"
  }
 },
 "nbformat": 4,
 "nbformat_minor": 5
}
