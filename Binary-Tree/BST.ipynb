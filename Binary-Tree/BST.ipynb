{
 "cells": [
  {
   "cell_type": "code",
   "execution_count": null,
   "id": "cf043018",
   "metadata": {},
   "outputs": [],
   "source": []
  },
  {
   "cell_type": "code",
   "execution_count": null,
   "id": "7a3c624d",
   "metadata": {},
   "outputs": [],
   "source": [
    "class BST:\n",
    "    def __init__(self,data):\n",
    "        self.data = data\n",
    "        self.lchild = None\n",
    "        self.rchild = None \n",
    "        \n",
    "    def insert(self,data):\n",
    "        if self.data is None:\n",
    "            self.data = data \n",
    "        if self.data == data:\n",
    "            return \n",
    "        if data > self.data :\n",
    "            if rchild:\n",
    "                self.rchild = insert(data)\n",
    "            else:\n",
    "                self.rchild = BST(data)\n",
    "                \n",
    "                \n",
    "        else :\n",
    "            if lchild:\n",
    "                self.lchild = insert(data)\n",
    "                \n",
    "            else:\n",
    "                self.lchild = BST(data)\n",
    "                \n",
    "    def search (self,data):\n",
    "        if self.data = data :\n",
    "            return \"FOund\"\n",
    "        if data < self.data:\n",
    "            if lchild:\n",
    "                self.lchild = search(data)\n",
    "            else:\n",
    "                return \"Not Found\""
   ]
  }
 ],
 "metadata": {
  "kernelspec": {
   "display_name": "Python 3 (ipykernel)",
   "language": "python",
   "name": "python3"
  },
  "language_info": {
   "codemirror_mode": {
    "name": "ipython",
    "version": 3
   },
   "file_extension": ".py",
   "mimetype": "text/x-python",
   "name": "python",
   "nbconvert_exporter": "python",
   "pygments_lexer": "ipython3",
   "version": "3.9.13"
  }
 },
 "nbformat": 4,
 "nbformat_minor": 5
}
