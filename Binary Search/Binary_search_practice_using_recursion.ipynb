{
 "cells": [
  {
   "cell_type": "code",
   "execution_count": 18,
   "id": "8c56d69f",
   "metadata": {},
   "outputs": [
    {
     "name": "stdout",
     "output_type": "stream",
     "text": [
      "8\n",
      "FOUND AT POISITION  8\n"
     ]
    }
   ],
   "source": [
    "def binary_search (array , low , high ,target):\n",
    "    if low > high :\n",
    "        return -1\n",
    "    mid = (low+high)//2\n",
    "    \n",
    "    if array[mid] == target:\n",
    "        return mid \n",
    "    \n",
    "    elif array[mid] > target:\n",
    "        return binary_search(array , low , mid-1 , target)\n",
    "    else :\n",
    "        return binary_search(array , mid+1 , high , target)\n",
    "\n",
    "array = [1,2,3,4,5,6,7,8,13,114]\n",
    "bs = binary_search (array , 0 , len(array)-1 ,13)\n",
    "print(bs)\n",
    "if bs == -1:\n",
    "    print(\"oops not found\")\n",
    "else :\n",
    "    print('FOUND AT POISITION ',bs)\n",
    "    \n"
   ]
  },
  {
   "cell_type": "code",
   "execution_count": 8,
   "id": "07140a04",
   "metadata": {},
   "outputs": [
    {
     "name": "stdout",
     "output_type": "stream",
     "text": [
      "not found\n"
     ]
    }
   ],
   "source": [
    "arr = [1,2,3,4,5,6,7,8,9,10]\n",
    "target = 3\n",
    "def binary_search(arr,low,high,target):\n",
    "    if low > high :\n",
    "        #0  10\n",
    "        #10  5 ==  -1\n",
    "        return -1\n",
    "    \n",
    "    mid = (low+high)//2\n",
    "    #       0 + 9 == 9 = 9/2 (mid==4)\n",
    "    if arr[mid]==target: # a[5] == 3 \n",
    "        return mid\n",
    "    if arr[mid]>target: # The target is in the left half of the array 5 > 3\n",
    "        return binary_search(arr , low , mid-1 , target)\n",
    "    else :# 5<3\n",
    "        return binary_search(arr, mid+1 , high , target)  \n",
    "    \n",
    "bs = binary_search(arr, 0, len(arr)-1 ,11)\n",
    "if bs == -1:\n",
    "    print('not found')\n",
    "else :\n",
    "    print(\"Found at index \" , bs)\n",
    "    \n"
   ]
  },
  {
   "cell_type": "code",
   "execution_count": 16,
   "id": "a9cae995",
   "metadata": {},
   "outputs": [
    {
     "name": "stdout",
     "output_type": "stream",
     "text": [
      "Element found at position: 8\n"
     ]
    }
   ],
   "source": [
    "def binary_search(array, low, high, target):\n",
    "    if low > high:\n",
    "        return -1\n",
    "    mid = (low + high) // 2\n",
    "\n",
    "    if array[mid] == target:\n",
    "        return mid\n",
    "\n",
    "    elif array[mid] > target:\n",
    "        return binary_search(array, low, mid - 1, target)\n",
    "    else:\n",
    "        return binary_search(array, mid + 1, high, target)\n",
    "\n",
    "array = [1, 2, 3, 4, 5, 6, 7, 8, 13, 55, 89, 114]\n",
    "bs = binary_search(array, 0, len(array) - 1, 13)\n",
    "if bs == -1:\n",
    "    print(\"Oops! Element not found.\")\n",
    "else:\n",
    "    print(\"Element found at position:\", bs)\n"
   ]
  },
  {
   "cell_type": "code",
   "execution_count": 22,
   "id": "39d5c2c3",
   "metadata": {},
   "outputs": [
    {
     "name": "stdout",
     "output_type": "stream",
     "text": [
      "not found\n"
     ]
    }
   ],
   "source": [
    "def linear_search(array , target):\n",
    "    for i in range (len(array)):\n",
    "        if array[i]==target:\n",
    "            return -1\n",
    "    return -1\n",
    "\n",
    "array =[1,2,3,4,5,6,7]\n",
    "ls = linear_search(array , 6)\n",
    "if ls ==-1:\n",
    "    print(\"not found\")\n",
    "else:\n",
    "    print('Found at ',ls,'position')"
   ]
  },
  {
   "cell_type": "code",
   "execution_count": null,
   "id": "aa470623",
   "metadata": {},
   "outputs": [],
   "source": []
  },
  {
   "cell_type": "code",
   "execution_count": null,
   "id": "55e4515e",
   "metadata": {},
   "outputs": [],
   "source": []
  },
  {
   "cell_type": "code",
   "execution_count": null,
   "id": "b237ccf0",
   "metadata": {},
   "outputs": [],
   "source": []
  },
  {
   "cell_type": "code",
   "execution_count": null,
   "id": "9dbce94e",
   "metadata": {},
   "outputs": [],
   "source": []
  },
  {
   "cell_type": "code",
   "execution_count": 9,
   "id": "6e098338",
   "metadata": {},
   "outputs": [
    {
     "name": "stdout",
     "output_type": "stream",
     "text": [
      "2\n"
     ]
    }
   ],
   "source": [
    "def bs(array ,low , high, target):\n",
    "    if low > high :\n",
    "        return -1\n",
    "    \n",
    "    mid = (low+high)//2\n",
    "    \n",
    "    if array[mid] == target:\n",
    "        return mid\n",
    "    elif array[mid] > target :\n",
    "        return bs(array , low , mid-1, target)\n",
    "    else:\n",
    "        return bs(array , mid+1, high , target)\n",
    "\n",
    "    \n",
    "array = [1,2,3,4,5,5]\n",
    "target = 2\n",
    "\n",
    "bs = bs(array, 0 , len(array)-1 , target)\n",
    "\n",
    "if bs !=-1:\n",
    "    print(bs+1)\n",
    "else:\n",
    "    print('no')"
   ]
  },
  {
   "cell_type": "code",
   "execution_count": null,
   "id": "5f6322a8",
   "metadata": {},
   "outputs": [],
   "source": []
  },
  {
   "cell_type": "code",
   "execution_count": null,
   "id": "4d4d60de",
   "metadata": {},
   "outputs": [],
   "source": []
  },
  {
   "cell_type": "code",
   "execution_count": null,
   "id": "db2e1053",
   "metadata": {},
   "outputs": [],
   "source": []
  },
  {
   "cell_type": "code",
   "execution_count": null,
   "id": "af2e4d60",
   "metadata": {},
   "outputs": [],
   "source": []
  },
  {
   "cell_type": "code",
   "execution_count": null,
   "id": "df368dc5",
   "metadata": {},
   "outputs": [],
   "source": []
  },
  {
   "cell_type": "code",
   "execution_count": null,
   "id": "8b13dcbb",
   "metadata": {},
   "outputs": [],
   "source": []
  },
  {
   "cell_type": "code",
   "execution_count": null,
   "id": "bf0ca41b",
   "metadata": {},
   "outputs": [],
   "source": []
  },
  {
   "cell_type": "code",
   "execution_count": null,
   "id": "6e5a7be6",
   "metadata": {},
   "outputs": [],
   "source": []
  }
 ],
 "metadata": {
  "kernelspec": {
   "display_name": "Python 3 (ipykernel)",
   "language": "python",
   "name": "python3"
  },
  "language_info": {
   "codemirror_mode": {
    "name": "ipython",
    "version": 3
   },
   "file_extension": ".py",
   "mimetype": "text/x-python",
   "name": "python",
   "nbconvert_exporter": "python",
   "pygments_lexer": "ipython3",
   "version": "3.9.13"
  }
 },
 "nbformat": 4,
 "nbformat_minor": 5
}
