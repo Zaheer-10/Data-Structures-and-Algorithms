{
 "cells": [
  {
   "cell_type": "markdown",
   "id": "6aa55365",
   "metadata": {},
   "source": [
    "# SORTING TECHNIQUES "
   ]
  },
  {
   "cell_type": "markdown",
   "id": "3b388d16",
   "metadata": {},
   "source": [
    "## 1. BUBBLE SORT "
   ]
  },
  {
   "cell_type": "code",
   "execution_count": 1,
   "id": "8c4dc9da",
   "metadata": {},
   "outputs": [],
   "source": [
    "def bubble_sort(array):\n",
    "    for i in range(len(array)):\n",
    "        for j in range(len(array)-i-1):\n",
    "            if array[j] > array[j+1]:\n",
    "                swapped = True \n",
    "                array[j],array[j+1] = array[j+1] , array[j]\n",
    "                \n",
    "        if not swapped :\n",
    "            break\n",
    "    return array   "
   ]
  },
  {
   "cell_type": "code",
   "execution_count": 2,
   "id": "f726005e",
   "metadata": {},
   "outputs": [
    {
     "data": {
      "text/plain": [
       "[-852, 1, 3, 4, 5, 8, 9, 785]"
      ]
     },
     "execution_count": 2,
     "metadata": {},
     "output_type": "execute_result"
    }
   ],
   "source": [
    "array = [5,9,4,1,3,8,785,-852]\n",
    "\n",
    "bubble_sort(array)"
   ]
  },
  {
   "cell_type": "markdown",
   "id": "5f0321eb",
   "metadata": {},
   "source": [
    "## 2. Insertion Sort\n"
   ]
  },
  {
   "cell_type": "code",
   "execution_count": 3,
   "id": "db26032b",
   "metadata": {},
   "outputs": [],
   "source": [
    "## 2. Insertion Sort\n",
    "\n",
    "def insertion_sort(array):\n",
    "    for i in range( 1 ,len(array) ):\n",
    "        key = array[i]\n",
    "        j = i-1\n",
    "        \n",
    "        while j>=0 and key < array[j]:\n",
    "            array[j+1] = array[j]\n",
    "            j = j - 1\n",
    "        array[j+1] = key\n",
    "        \n",
    "    return array \n"
   ]
  },
  {
   "cell_type": "code",
   "execution_count": 4,
   "id": "831b9764",
   "metadata": {},
   "outputs": [
    {
     "data": {
      "text/plain": [
       "[-199, 1, 2, 3, 7, 8, 9, 199]"
      ]
     },
     "execution_count": 4,
     "metadata": {},
     "output_type": "execute_result"
    }
   ],
   "source": [
    "array = [9,8,7,1,2,3,-199,199]\n",
    "insertion_sort(array)"
   ]
  },
  {
   "cell_type": "markdown",
   "id": "08d385fc",
   "metadata": {},
   "source": [
    "## 3.Selection Sort"
   ]
  },
  {
   "cell_type": "code",
   "execution_count": 5,
   "id": "5cef0e0b",
   "metadata": {},
   "outputs": [],
   "source": [
    "## 3.Selection Sort\n",
    "\n",
    "def selection_sort(array):\n",
    "    for i in range(len(array)):\n",
    "        min_index = i\n",
    "        \n",
    "        for j in range( i+1 , len(array)):\n",
    "            if array[j] < array[min_index]:\n",
    "                min_index= j\n",
    "                \n",
    "        array[i],array[min_index] = array[min_index],array[i]\n",
    "        \n",
    "    return array "
   ]
  },
  {
   "cell_type": "code",
   "execution_count": 6,
   "id": "5a359bce",
   "metadata": {},
   "outputs": [
    {
     "data": {
      "text/plain": [
       "[1, 2, 3, 8, 9, 64, 72]"
      ]
     },
     "execution_count": 6,
     "metadata": {},
     "output_type": "execute_result"
    }
   ],
   "source": [
    "array = [1,9,8,72,3,2,64]\n",
    "selection_sort(array)"
   ]
  },
  {
   "cell_type": "markdown",
   "id": "67ae6e0c",
   "metadata": {},
   "source": [
    "## 4. Quick Sort "
   ]
  },
  {
   "cell_type": "code",
   "execution_count": 7,
   "id": "1063a5cd",
   "metadata": {},
   "outputs": [],
   "source": [
    "## 4. Quick Sort \n",
    "\n",
    "def quick_sort(array):\n",
    "    if len(array) <= 1:\n",
    "        return array   \n",
    "     \n",
    "    item_greater =[]\n",
    "    item_lower = []\n",
    "    pivot = array.pop()\n",
    "    \n",
    "    for i in array:\n",
    "        if i > pivot :\n",
    "            item_greater.append(i)\n",
    "        else:\n",
    "            item_lower.append(i)\n",
    "            \n",
    "    return quick_sort(item_lower) + [pivot] + quick_sort(item_greater)"
   ]
  },
  {
   "cell_type": "code",
   "execution_count": 8,
   "id": "3e4e87d8",
   "metadata": {
    "scrolled": true
   },
   "outputs": [
    {
     "data": {
      "text/plain": [
       "[1, 2, 3, 4, 7, 8, 9, 16, 84]"
      ]
     },
     "execution_count": 8,
     "metadata": {},
     "output_type": "execute_result"
    }
   ],
   "source": [
    "arr = [1,9,7,8,4,2,16,84,3]\n",
    "quick_sort(arr)"
   ]
  },
  {
   "cell_type": "markdown",
   "id": "89da5c10",
   "metadata": {},
   "source": [
    "## 4.Merge Sort"
   ]
  },
  {
   "cell_type": "code",
   "execution_count": 5,
   "id": "81d478b0",
   "metadata": {},
   "outputs": [],
   "source": [
    "## 4.Merge Sort\n",
    "\n",
    "def merge(left,right):\n",
    "    left_index, right_index = 0 , 0\n",
    "    sorted_list = []\n",
    "    \n",
    "    while left_index < len(left) and right_index < len(right):\n",
    "        if left[left_index] <= right[right_index]:\n",
    "            \n",
    "            sorted_list.append(left[left_index])\n",
    "            left_index +=1\n",
    "                \n",
    "        else :\n",
    "            \n",
    "            sorted_list.append(right[right_index])\n",
    "            right_index +=1\n",
    "            \n",
    "    if left_index == len(left):\n",
    "        sorted_list.extend(right[right_index:])\n",
    "    else:\n",
    "        sorted_list.extend(left[left_index:])\n",
    "    \n",
    "    return sorted_list\n",
    "            \n",
    "\n",
    "def merge_sort(array):\n",
    "    if len(array) <= 1 : \n",
    "        return array\n",
    "    \n",
    "    mid = len(array)//2\n",
    "    left = merge_sort(array[:mid])\n",
    "    right = merge_sort(array[mid:])\n",
    "    \n",
    "    return merge(left , right )\n",
    "\n",
    "\n"
   ]
  },
  {
   "cell_type": "code",
   "execution_count": 6,
   "id": "79c2a713",
   "metadata": {
    "scrolled": false
   },
   "outputs": [
    {
     "data": {
      "text/plain": [
       "[-54, 1, 2, 2, 4, 9, 95, 132]"
      ]
     },
     "execution_count": 6,
     "metadata": {},
     "output_type": "execute_result"
    }
   ],
   "source": [
    "list = [9,1,95,4,2,132,2,-54]\n",
    "merge_sort(list)"
   ]
  },
  {
   "cell_type": "markdown",
   "id": "2e08f19d",
   "metadata": {},
   "source": [
    "## Merge Sort (2)"
   ]
  },
  {
   "cell_type": "code",
   "execution_count": 11,
   "id": "aae6fda5",
   "metadata": {},
   "outputs": [],
   "source": [
    "def merge(left , right):\n",
    "   \n",
    "    result = []\n",
    "    left_index , right_index = 0,0\n",
    "    \n",
    "    while left_index < len(left) and right_index < len(right):\n",
    "        if left[left_index] <= right[right_index]:\n",
    "            left_index +=1\n",
    "            result.append(left[left_index])\n",
    "        else:\n",
    "            right_index +=1\n",
    "            result.append(right[right_index])\n",
    "            \n",
    "    if len(left) == left_index:\n",
    "        result.extend(right[right_index:])\n",
    "    else:\n",
    "        result.extend(left[left_index:])\n",
    "        \n",
    "    return result"
   ]
  },
  {
   "cell_type": "code",
   "execution_count": null,
   "id": "af2b6cb0",
   "metadata": {},
   "outputs": [],
   "source": [
    "def merge_sort(array):\n",
    "    mid = len(array)//2\n",
    "    left = merge_sort(array[:mid])\n",
    "    right = merge_sort(array[mid:])\n",
    "    return left , right \n",
    "\n",
    "listy = [54,23,52,23,2,75,4,2,6,6,6,6,6,6,62]\n",
    "merge_sort(listy)                        "
   ]
  },
  {
   "cell_type": "code",
   "execution_count": null,
   "id": "b5cecdfd",
   "metadata": {},
   "outputs": [],
   "source": []
  },
  {
   "cell_type": "code",
   "execution_count": null,
   "id": "73423223",
   "metadata": {},
   "outputs": [],
   "source": []
  },
  {
   "cell_type": "code",
   "execution_count": null,
   "id": "547e3596",
   "metadata": {},
   "outputs": [],
   "source": []
  },
  {
   "cell_type": "code",
   "execution_count": null,
   "id": "f1f15724",
   "metadata": {},
   "outputs": [],
   "source": []
  },
  {
   "cell_type": "code",
   "execution_count": null,
   "id": "d6e3abf4",
   "metadata": {},
   "outputs": [],
   "source": []
  },
  {
   "cell_type": "code",
   "execution_count": null,
   "id": "5f3a8d3a",
   "metadata": {},
   "outputs": [],
   "source": []
  }
 ],
 "metadata": {
  "kernelspec": {
   "display_name": "Python 3 (ipykernel)",
   "language": "python",
   "name": "python3"
  },
  "language_info": {
   "codemirror_mode": {
    "name": "ipython",
    "version": 3
   },
   "file_extension": ".py",
   "mimetype": "text/x-python",
   "name": "python",
   "nbconvert_exporter": "python",
   "pygments_lexer": "ipython3",
   "version": "3.9.13"
  }
 },
 "nbformat": 4,
 "nbformat_minor": 5
}
